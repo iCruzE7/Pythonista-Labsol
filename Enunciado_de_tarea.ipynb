{
 "cells": [
  {
   "cell_type": "markdown",
   "metadata": {},
   "source": [
    "## Objetivo del código.\n",
    "\n",
    "El código de este ejercicio tiene por objetivo el de formar un sistema básico de altas de alumnos con los siguientes campos datos:\n",
    "\n",
    "* Nombre.\n",
    "* Primer apellido.\n",
    "* Segundo apellido (opcional).\n",
    "* Carrera.\n",
    "* Semestre.\n",
    "* Promedio.\n",
    "* Si se encuentra al corriente en sus pagos mediante un objeto de tipo *bool*.\n",
    "\n",
    "Existen ciertas reglas que deben de reforzarse:\n",
    "\n",
    "* Cada campo debe de corresponder de un tipo de dato específico.\n",
    "* El promedio del alumno debe de ser una cantidad entre 0 y 10.\n",
    "* Los semestres son enteros mayores o iguales a 1.\n",
    "* Sólo se pueden ingresar carreras registradas.\n",
    "* Aún cuando el campo Segundo apellido es opcional, es necesario pedir confirmación de que se deja en blanco.\n",
    "\n",
    "\n",
    "## Ejecución:\n",
    "\n",
    "Al ejecutar el código, se pedirá al usuario que ingrese el número de alumnos a dar de alta y el sistema procederá a pedir y validar cada campo de datos del alumno.\n",
    "Una vez terminada la captura, desplegará los datos de todos los registros."
   ]
  },
  {
   "cell_type": "markdown",
   "metadata": {},
   "source": [
    "## El paquete *caso*.\n",
    "\n",
    "Este paquete incluye varios módulos que realizarán las actividades descritas con los datos en memoria."
   ]
  },
  {
   "cell_type": "code",
   "execution_count": null,
   "metadata": {
    "collapsed": true
   },
   "outputs": [],
   "source": [
    "import caso"
   ]
  },
  {
   "cell_type": "code",
   "execution_count": null,
   "metadata": {
    "collapsed": true
   },
   "outputs": [],
   "source": [
    "caso.principal()"
   ]
  },
  {
   "cell_type": "code",
   "execution_count": null,
   "metadata": {
    "collapsed": true
   },
   "outputs": [],
   "source": [
    "import caso.datos"
   ]
  },
  {
   "cell_type": "code",
   "execution_count": null,
   "metadata": {
    "collapsed": true
   },
   "outputs": [],
   "source": [
    "import caso.datos as datos"
   ]
  },
  {
   "cell_type": "code",
   "execution_count": null,
   "metadata": {
    "collapsed": true
   },
   "outputs": [],
   "source": [
    "def despliega_uno(elemento):\n",
    "    listaResultados = []\n",
    "    for campo in datos.orden:\n",
    "        #print(campo + \": \" + str(elemento[campo]))\n",
    "        listaResultados.append(campo + \": \" + str(elemento[campo]))\n",
    "    print(tuple(listaResultados))"
   ]
  },
  {
   "cell_type": "code",
   "execution_count": null,
   "metadata": {
    "collapsed": true
   },
   "outputs": [],
   "source": [
    "campos = (\"Nombre\", \"Primer Apellido\", \"Segundo Apellido\")"
   ]
  },
  {
   "cell_type": "code",
   "execution_count": null,
   "metadata": {
    "collapsed": true
   },
   "outputs": [],
   "source": [
    "def buscaEspec(elemento, cadena):\n",
    "    for campo in campos:\n",
    "        if cadena.lower() in elemento[campo].lower():\n",
    "            #print(campo + \": \" + str(elemento[campo]))\n",
    "            despliega_uno(elemento)"
   ]
  },
  {
   "cell_type": "code",
   "execution_count": null,
   "metadata": {
    "collapsed": true
   },
   "outputs": [],
   "source": [
    "def buscar(cadena):\n",
    "    contador = 0\n",
    "    for alumno in datos.alumnos:        \n",
    "        buscaEspec(alumno, cadena)"
   ]
  },
  {
   "cell_type": "code",
   "execution_count": null,
   "metadata": {},
   "outputs": [],
   "source": [
    "buscar('llano')"
   ]
  },
  {
   "cell_type": "code",
   "execution_count": null,
   "metadata": {},
   "outputs": [],
   "source": [
    "dir()"
   ]
  },
  {
   "cell_type": "markdown",
   "metadata": {},
   "source": [
    "## El paquete *caso_nuevo*.\n",
    "Este paquete incluye varios módulos que realizarán las actividades descritas, pero los datos son almacenados en el archivo de texto en la ruta local *caso_nuevo/alumnos.txt* como una sucesión de líneas en donde cada una de ellas corresponden a un objeto de tipo *dict*."
   ]
  },
  {
   "cell_type": "code",
   "execution_count": null,
   "metadata": {
    "collapsed": true
   },
   "outputs": [],
   "source": [
    "%cat caso_nuevo/alumnos.txt"
   ]
  },
  {
   "cell_type": "code",
   "execution_count": 12,
   "metadata": {
    "collapsed": true
   },
   "outputs": [],
   "source": [
    "#! /usr/bin/python3\n",
    "# -*- coding: utf-8 -*-\n",
    "import caso_nuevo"
   ]
  },
  {
   "cell_type": "code",
   "execution_count": null,
   "metadata": {
    "collapsed": true
   },
   "outputs": [],
   "source": [
    "caso_nuevo.principal()"
   ]
  },
  {
   "cell_type": "code",
   "execution_count": null,
   "metadata": {},
   "outputs": [],
   "source": [
    "%cat caso_nuevo/alumnos.txt"
   ]
  },
  {
   "cell_type": "code",
   "execution_count": null,
   "metadata": {},
   "outputs": [],
   "source": [
    "caso_nuevo/alumnos.txt"
   ]
  },
  {
   "cell_type": "code",
   "execution_count": null,
   "metadata": {
    "collapsed": true
   },
   "outputs": [],
   "source": []
  },
  {
   "cell_type": "code",
   "execution_count": 13,
   "metadata": {
    "collapsed": true
   },
   "outputs": [],
   "source": [
    "import caso_nuevo.datos as datos"
   ]
  },
  {
   "cell_type": "code",
   "execution_count": 14,
   "metadata": {
    "collapsed": true
   },
   "outputs": [],
   "source": [
    "campos = (\"Nombre\", \"Primer Apellido\", \"Segundo Apellido\")"
   ]
  },
  {
   "cell_type": "code",
   "execution_count": 15,
   "metadata": {
    "collapsed": true
   },
   "outputs": [],
   "source": [
    "def despliega_uno(elemento):\n",
    "    listaResultados = []\n",
    "    for campo in datos.orden:\n",
    "        #print(campo + \": \" + str(elemento[campo]))\n",
    "        listaResultados.append(campo + \": \" + str(elemento[campo]))\n",
    "    print(tuple(listaResultados)) #Mostrar todos los datos de ese alumno en forma de tupla\n"
   ]
  },
  {
   "cell_type": "code",
   "execution_count": 16,
   "metadata": {
    "collapsed": true
   },
   "outputs": [],
   "source": [
    "def buscaEspec(elemento, cadena):\n",
    "    for campo in campos:\n",
    "        if cadena.lower() in elemento[campo].lower():   #Si se encuentra la cadena deseada\n",
    "            #print(campo + \": \" + str(elemento[campo]))\n",
    "            despliega_uno(elemento)     #Mostrar todos los datos de ese alumno\n"
   ]
  },
  {
   "cell_type": "code",
   "execution_count": 17,
   "metadata": {
    "collapsed": true
   },
   "outputs": [],
   "source": [
    "def buscar(cadena, ruta=datos.ruta):\n",
    "    with open(ruta, 'r') as archivo:    #'r' para modo lectura y cierre automáticamente al archivo        \n",
    "        for alumno in archivo:\n",
    "            alumno = eval(alumno)                       \n",
    "            buscaEspec(alumno, cadena)\n"
   ]
  },
  {
   "cell_type": "code",
   "execution_count": 23,
   "metadata": {},
   "outputs": [
    {
     "name": "stdout",
     "output_type": "stream",
     "text": [
      "('Nombre: Emiliano', 'Primer Apellido: RenterÃ\\xada', 'Segundo Apellido: ', 'Carrera: AdministraciÃ³n', 'Semestre: 4', 'Promedio: 8.7', 'Al Corriente: True')\n",
      "('Nombre: Patricio', 'Primer Apellido: Ayala', 'Segundo Apellido: Arriaga', 'Carrera: Sistemas', 'Semestre: 5', 'Promedio: 8.0', 'Al Corriente: True')\n"
     ]
    }
   ],
   "source": [
    "buscar('ia')"
   ]
  },
  {
   "cell_type": "code",
   "execution_count": 9,
   "metadata": {},
   "outputs": [
    {
     "data": {
      "text/plain": [
       "['In',\n",
       " 'Out',\n",
       " '_',\n",
       " '__',\n",
       " '___',\n",
       " '__builtin__',\n",
       " '__builtins__',\n",
       " '__doc__',\n",
       " '__loader__',\n",
       " '__name__',\n",
       " '__package__',\n",
       " '__spec__',\n",
       " '_dh',\n",
       " '_i',\n",
       " '_i1',\n",
       " '_i2',\n",
       " '_i3',\n",
       " '_i4',\n",
       " '_i5',\n",
       " '_i6',\n",
       " '_i7',\n",
       " '_i8',\n",
       " '_i9',\n",
       " '_ih',\n",
       " '_ii',\n",
       " '_iii',\n",
       " '_oh',\n",
       " 'buscaEspec',\n",
       " 'buscar',\n",
       " 'campos',\n",
       " 'caso_nuevo',\n",
       " 'datos',\n",
       " 'despliega_uno',\n",
       " 'exit',\n",
       " 'get_ipython',\n",
       " 'quit']"
      ]
     },
     "execution_count": 9,
     "metadata": {},
     "output_type": "execute_result"
    }
   ],
   "source": [
    "dir()"
   ]
  },
  {
   "cell_type": "markdown",
   "metadata": {},
   "source": [
    "## Tarea a realizar.\n",
    "\n",
    "* Lea, analice y comente el código de cada módulo.\n",
    "* Cree un nuevo módulo en cada paquete llamado *busqueda* que contenga la función *buscar()* que realice busquedas de coincidencias de una cadena de caracteres, la cual se ingresa como argumento de dicha función. Dicha búsqueda se realizará en los campos *Nombre*, *Primer apellido* y *Segundo apellido*. La función debe de regresar un objeto de tipo *tuple* que contenga todos los datos de los registros que coincidan."
   ]
  },
  {
   "cell_type": "code",
   "execution_count": null,
   "metadata": {
    "collapsed": true
   },
   "outputs": [],
   "source": []
  }
 ],
 "metadata": {
  "kernelspec": {
   "display_name": "Python 3",
   "language": "python",
   "name": "python3"
  },
  "language_info": {
   "codemirror_mode": {
    "name": "ipython",
    "version": 3
   },
   "file_extension": ".py",
   "mimetype": "text/x-python",
   "name": "python",
   "nbconvert_exporter": "python",
   "pygments_lexer": "ipython3",
   "version": "3.6.3"
  }
 },
 "nbformat": 4,
 "nbformat_minor": 2
}
